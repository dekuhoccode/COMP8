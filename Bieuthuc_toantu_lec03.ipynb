{
 "cells": [
  {
   "cell_type": "code",
   "execution_count": 1,
   "id": "d763964e",
   "metadata": {},
   "outputs": [
    {
     "name": "stdout",
     "output_type": "stream",
     "text": [
      "Hello World!\n"
     ]
    }
   ],
   "source": [
    "#W2A1\n",
    "print(\"Hello World!\")"
   ]
  },
  {
   "cell_type": "code",
   "execution_count": 4,
   "id": "3f86a7dd",
   "metadata": {},
   "outputs": [
    {
     "name": "stdout",
     "output_type": "stream",
     "text": [
      "Chào bạn Tuấn!\n"
     ]
    }
   ],
   "source": [
    "#W2A2\n",
    "s=input()\n",
    "print(\"Chào bạn\",s+\"!\")"
   ]
  },
  {
   "cell_type": "code",
   "execution_count": null,
   "id": "302d5727",
   "metadata": {},
   "outputs": [
    {
     "name": "stdout",
     "output_type": "stream",
     "text": [
      "4 + 3 = 7\n",
      "4 - 3 = 1\n",
      "4 * 3 = 12\n",
      "4 // 3 = 1\n",
      "4 % 3 = 1\n",
      "4 / 3 = 1.33\n"
     ]
    }
   ],
   "source": [
    "#W2A3\n",
    "import decimal #import thư viện decimal để làm việc với số thập phân chính xác cao\n",
    "#thư viện float không chính xác trong các phép tính thập phân \n",
    "a=decimal.Decimal(input())\n",
    "b=decimal.Decimal(input())\n",
    "print(a,\"+\",b,\"=\",a+b)\n",
    "print(a,\"-\",b,\"=\",a-b)\n",
    "print(a,\"*\",b,\"=\",a*b)\n",
    "print(a,\"//\",b,\"=\",a//b)\n",
    "print(a,\"%\",b,\"=\",a%b)\n",
    "c=a/b\n",
    "'''print(a,\"/\",b,\"=\",c)'''\n",
    "rounded_c = c.quantize(decimal.Decimal('0.01'), rounding=decimal.ROUND_HALF_UP)\n",
    "#làm tròn kết quả c đến 2 chữ số thập phân\n",
    "#0.01: ước số làm tròn\n",
    "#ROUND_HALF_UP: quy tắc làm tròn (làm tròn lên nếu chữ số tiếp theo >=5)\n",
    "print(a,\"/\",b,\"=\",rounded_c)"
   ]
  },
  {
   "cell_type": "code",
   "execution_count": 12,
   "id": "1bf74ef3",
   "metadata": {},
   "outputs": [
    {
     "name": "stdout",
     "output_type": "stream",
     "text": [
      "Điểm trung bình là: 8.8\n"
     ]
    }
   ],
   "source": [
    "#W2A4\n",
    "import decimal\n",
    "a1, b1, c1, a2, b2, a3=map(decimal.Decimal,input().split())\n",
    "tb=((a1+b1+c1)+(a2+b2)*2+a3*3)/10\n",
    "rounded_tb = tb.quantize(decimal.Decimal('0.1'), rounding=decimal.ROUND_HALF_UP)\n",
    "print(\"Điểm trung bình là:\",rounded_tb)"
   ]
  },
  {
   "cell_type": "code",
   "execution_count": 13,
   "id": "22d56a7b",
   "metadata": {},
   "outputs": [
    {
     "name": "stdout",
     "output_type": "stream",
     "text": [
      "8\n"
     ]
    }
   ],
   "source": [
    "#W2A5\n",
    "a,b=map(int,input().split())\n",
    "print(a**b)"
   ]
  },
  {
   "cell_type": "code",
   "execution_count": 14,
   "id": "5325939a",
   "metadata": {},
   "outputs": [
    {
     "name": "stdout",
     "output_type": "stream",
     "text": [
      "97\n",
      "A\n"
     ]
    }
   ],
   "source": [
    "#W2A6\n",
    "s=input()\n",
    "print(ord(s))\n",
    "print(s.upper())"
   ]
  },
  {
   "cell_type": "code",
   "execution_count": 16,
   "id": "96950ad8",
   "metadata": {},
   "outputs": [
    {
     "name": "stdout",
     "output_type": "stream",
     "text": [
      "512\n",
      "512\n"
     ]
    }
   ],
   "source": [
    "#W2A7\n",
    "A=((13 ** 2) * 3) + 5\n",
    "B=13**2*3 + 5\n",
    "print(A)\n",
    "print(B)"
   ]
  },
  {
   "cell_type": "code",
   "execution_count": 20,
   "id": "d18bea91",
   "metadata": {},
   "outputs": [
    {
     "name": "stdout",
     "output_type": "stream",
     "text": [
      "212.00\n"
     ]
    }
   ],
   "source": [
    "#W2A8\n",
    "import decimal\n",
    "c=decimal.Decimal(input())\n",
    "f=decimal.Decimal(9/5)*c+32\n",
    "f_rounded = f.quantize(decimal.Decimal('0.01'),rounding=decimal.ROUND_HALF_UP)\n",
    "print(f_rounded)"
   ]
  },
  {
   "cell_type": "code",
   "execution_count": 23,
   "id": "c5be15fa",
   "metadata": {},
   "outputs": [
    {
     "name": "stdout",
     "output_type": "stream",
     "text": [
      "154.00\n"
     ]
    }
   ],
   "source": [
    "#W2A9\n",
    "import decimal\n",
    "price=decimal.Decimal(input())+10 \n",
    "price_with_tax=decimal.Decimal(1.4)*price\n",
    "price_rounded=price_with_tax.quantize(decimal.Decimal('0.01'),rounding=decimal.ROUND_HALF_UP)\n",
    "print(price_rounded)"
   ]
  },
  {
   "cell_type": "code",
   "execution_count": 2,
   "id": "89c12ded",
   "metadata": {},
   "outputs": [
    {
     "name": "stdout",
     "output_type": "stream",
     "text": [
      "Hi Helen, Alice and Bob.\n"
     ]
    }
   ],
   "source": [
    "#W2A10\n",
    "a,b,c=map(str,input().split())\n",
    "print(f\"Hi {c}, {b} and {a}.\")"
   ]
  },
  {
   "cell_type": "code",
   "execution_count": 4,
   "id": "6bf6a654",
   "metadata": {},
   "outputs": [
    {
     "name": "stdout",
     "output_type": "stream",
     "text": [
      "5400\n"
     ]
    }
   ],
   "source": [
    "#W2A11\n",
    "h,m = map(int,input().split())\n",
    "print(h*3600+m*60)"
   ]
  },
  {
   "cell_type": "code",
   "execution_count": 6,
   "id": "3b0364da",
   "metadata": {},
   "outputs": [
    {
     "name": "stdout",
     "output_type": "stream",
     "text": [
      "54\n"
     ]
    }
   ],
   "source": [
    "#W2A12\n",
    "n=int(input())\n",
    "print(n**2*6)"
   ]
  },
  {
   "cell_type": "code",
   "execution_count": 9,
   "id": "9da9c81f",
   "metadata": {},
   "outputs": [
    {
     "name": "stdout",
     "output_type": "stream",
     "text": [
      "2\n"
     ]
    }
   ],
   "source": [
    "#W2A13\n",
    "a,b=map(int,input().split())\n",
    "print(((a%10)*(b%10))%10)"
   ]
  },
  {
   "cell_type": "code",
   "execution_count": 11,
   "id": "1dd761cd",
   "metadata": {},
   "outputs": [
    {
     "name": "stdout",
     "output_type": "stream",
     "text": [
      "2 5\n"
     ]
    }
   ],
   "source": [
    "#W2A14\n",
    "a,b=map(int,input().split())\n",
    "a,b=b,a \n",
    "print(a,b)"
   ]
  },
  {
   "cell_type": "code",
   "execution_count": 14,
   "id": "9f60d4e8",
   "metadata": {},
   "outputs": [
    {
     "name": "stdout",
     "output_type": "stream",
     "text": [
      "37\n"
     ]
    }
   ],
   "source": [
    "#W2A15\n",
    "n=int(input())\n",
    "print(1+(n-1)*n//2*12)"
   ]
  },
  {
   "cell_type": "code",
   "execution_count": null,
   "id": "f8c4841b",
   "metadata": {},
   "outputs": [
    {
     "name": "stdout",
     "output_type": "stream",
     "text": [
      "Spring\n",
      "Summer\n",
      "Autumn\n",
      "Winter\n"
     ]
    }
   ],
   "source": [
    "#W2A16\n",
    "#print(\"Spring\\nSummer\\nAutumn\\nWinter\")\n",
    "print('''Spring\n",
    "Summer\n",
    "Autumn\n",
    "Winter''')"
   ]
  },
  {
   "cell_type": "code",
   "execution_count": 20,
   "id": "8b110b31",
   "metadata": {},
   "outputs": [
    {
     "name": "stdout",
     "output_type": "stream",
     "text": [
      "*\n",
      "***\n",
      "*****\n"
     ]
    }
   ],
   "source": [
    "#W2A17\n",
    "for i in range(1,6,2):\n",
    "    print(\"*\"*i)"
   ]
  },
  {
   "cell_type": "code",
   "execution_count": 28,
   "id": "ca17e4c4",
   "metadata": {},
   "outputs": [
    {
     "name": "stdout",
     "output_type": "stream",
     "text": [
      "### ##  ### ###\n",
      " #  # #  #   #\n",
      " #  #  # #   #\n",
      " #  # #  #   #\n",
      " #  ##   #   #\n"
     ]
    }
   ],
   "source": [
    "#W2A18\n",
    "print('''### ##  ### ###\n",
    " #  # #  #   #\n",
    " #  #  # #   #\n",
    " #  # #  #   #\n",
    " #  ##   #   #''')"
   ]
  },
  {
   "cell_type": "code",
   "execution_count": 29,
   "id": "c9e4de46",
   "metadata": {},
   "outputs": [
    {
     "name": "stdout",
     "output_type": "stream",
     "text": [
      "Monday\n",
      "Tuesday\n",
      "Wednesday\n",
      "Thursday\n",
      "Friday\n",
      "Saturday\n",
      "Sunday\n"
     ]
    }
   ],
   "source": [
    "#W2A19\n",
    "print('''Monday\n",
    "Tuesday\n",
    "Wednesday\n",
    "Thursday\n",
    "Friday\n",
    "Saturday\n",
    "Sunday''')"
   ]
  },
  {
   "cell_type": "code",
   "execution_count": 31,
   "id": "e6d77b50",
   "metadata": {},
   "outputs": [
    {
     "name": "stdout",
     "output_type": "stream",
     "text": [
      "January\n",
      "February\n",
      "March\n",
      "April\n",
      "May\n",
      "June\n",
      "July\n",
      "August\n",
      "September\n",
      "October\n",
      "November\n",
      "December\n"
     ]
    }
   ],
   "source": [
    "#W2A20\n",
    "print('''January\n",
    "February\n",
    "March\n",
    "April\n",
    "May\n",
    "June\n",
    "July\n",
    "August\n",
    "September\n",
    "October\n",
    "November\n",
    "December''')"
   ]
  },
  {
   "cell_type": "code",
   "execution_count": 32,
   "id": "5009d30b",
   "metadata": {},
   "outputs": [
    {
     "name": "stdout",
     "output_type": "stream",
     "text": [
      "Hello, world\n",
      "Hello, world\n",
      "Hello, world\n",
      "Hello, world\n",
      "Hello, world\n",
      "Hello, world\n",
      "Hello, world\n",
      "Hello, world\n",
      "Hello, world\n",
      "Hello, world\n"
     ]
    }
   ],
   "source": [
    "#W2A21\n",
    "for i in range(10):\n",
    "    print(\"Hello, world\")"
   ]
  }
 ],
 "metadata": {
  "kernelspec": {
   "display_name": "base",
   "language": "python",
   "name": "python3"
  },
  "language_info": {
   "codemirror_mode": {
    "name": "ipython",
    "version": 3
   },
   "file_extension": ".py",
   "mimetype": "text/x-python",
   "name": "python",
   "nbconvert_exporter": "python",
   "pygments_lexer": "ipython3",
   "version": "3.13.5"
  }
 },
 "nbformat": 4,
 "nbformat_minor": 5
}
