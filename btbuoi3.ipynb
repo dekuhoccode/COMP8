{
  "nbformat": 4,
  "nbformat_minor": 0,
  "metadata": {
    "colab": {
      "provenance": []
    },
    "kernelspec": {
      "name": "python3",
      "display_name": "Python 3"
    },
    "language_info": {
      "name": "python"
    }
  },
  "cells": [
    {
      "cell_type": "code",
      "source": [
        "#w1\n",
        "a=int(input())\n",
        "while (a != 0):\n",
        "  print(a%10,end=\"\")\n",
        "  a=a//10"
      ],
      "metadata": {
        "colab": {
          "base_uri": "https://localhost:8080/"
        },
        "id": "TZQWlkna6FmD",
        "outputId": "a73a54b1-b17e-4689-adcd-dd06e95f664b"
      },
      "execution_count": null,
      "outputs": [
        {
          "output_type": "stream",
          "name": "stdout",
          "text": [
            "1234\n",
            "4321"
          ]
        }
      ]
    },
    {
      "cell_type": "code",
      "source": [
        "#w3\n",
        "a = int(input())\n",
        "if ( a & (a-1) == 0): print(\"True\")\n",
        "else: print(\"False\")"
      ],
      "metadata": {
        "colab": {
          "base_uri": "https://localhost:8080/"
        },
        "id": "rAKJDOCPN2KN",
        "outputId": "b6574748-3a44-4d22-93ce-3eeaadda0d1b"
      },
      "execution_count": null,
      "outputs": [
        {
          "output_type": "stream",
          "name": "stdout",
          "text": [
            "4\n",
            "True\n"
          ]
        }
      ]
    },
    {
      "cell_type": "code",
      "source": [
        "#w4\n",
        "m, n = map(int, input().split())\n",
        "print(m//n)"
      ],
      "metadata": {
        "id": "OMxSNYxB7sB7",
        "colab": {
          "base_uri": "https://localhost:8080/"
        },
        "outputId": "9e079e71-738a-4357-c2ac-415af12afc2a"
      },
      "execution_count": null,
      "outputs": [
        {
          "output_type": "stream",
          "name": "stdout",
          "text": [
            "1 2\n",
            "0\n"
          ]
        }
      ]
    },
    {
      "cell_type": "code",
      "source": [
        "#w5\n",
        "m, n = map(int, input().split())\n",
        "b= m % n\n",
        "if (b==0): a=m//n\n",
        "else: a=m//n + 1\n",
        "print(a)"
      ],
      "metadata": {
        "colab": {
          "base_uri": "https://localhost:8080/"
        },
        "id": "9ghg67FQ-NgW",
        "outputId": "718621cb-f0ea-43a3-8e5a-e28795dd106d"
      },
      "execution_count": null,
      "outputs": [
        {
          "output_type": "stream",
          "name": "stdout",
          "text": [
            "2 3\n",
            "1\n"
          ]
        }
      ]
    },
    {
      "cell_type": "code",
      "source": [
        "#w2\n",
        "m, n = map(int, input().split())\n",
        "print(n,m)"
      ],
      "metadata": {
        "colab": {
          "base_uri": "https://localhost:8080/"
        },
        "id": "HECAlApf90rI",
        "outputId": "791f0d9e-89a5-443b-a866-9d060863a517"
      },
      "execution_count": null,
      "outputs": [
        {
          "output_type": "stream",
          "name": "stdout",
          "text": [
            "1 2\n",
            "2 1\n"
          ]
        }
      ]
    },
    {
      "cell_type": "code",
      "source": [
        "#w6\n",
        "a = int(input())\n",
        "if ( a % 2 == 0 ): print(\"Even\")\n",
        "else: print(\"Odd\")"
      ],
      "metadata": {
        "colab": {
          "base_uri": "https://localhost:8080/"
        },
        "id": "ZRm7MzqQDC56",
        "outputId": "89ec9e80-106b-4fde-bd2e-8e23a4b5858c"
      },
      "execution_count": null,
      "outputs": [
        {
          "output_type": "stream",
          "name": "stdout",
          "text": [
            "2\n",
            "Even\n"
          ]
        }
      ]
    },
    {
      "cell_type": "code",
      "source": [
        "#w7\n",
        "a, b = map(int, input().split())\n",
        "if ( a < 0 and b < 0 ): print(\"Yes\")\n",
        "else: print(\"No\")"
      ],
      "metadata": {
        "colab": {
          "base_uri": "https://localhost:8080/"
        },
        "id": "ulp8peWdDg0A",
        "outputId": "1d8c7622-2f31-425c-f3a3-59ec6b9e3f9c"
      },
      "execution_count": null,
      "outputs": [
        {
          "output_type": "stream",
          "name": "stdout",
          "text": [
            "-1 2\n",
            "No\n"
          ]
        }
      ]
    },
    {
      "cell_type": "code",
      "source": [
        "#w8\n",
        "a, b = map(str, input().split())\n",
        "if ( len(a) > len(b) ): print(\"True\")\n",
        "else: print(\"False\")"
      ],
      "metadata": {
        "colab": {
          "base_uri": "https://localhost:8080/"
        },
        "id": "5N-uNm869WXu",
        "outputId": "d2490526-a41e-42f5-ddb6-7349c795f6a8"
      },
      "execution_count": null,
      "outputs": [
        {
          "output_type": "stream",
          "name": "stdout",
          "text": [
            "assd a\n",
            "True\n"
          ]
        }
      ]
    },
    {
      "cell_type": "code",
      "source": [
        "#w9\n",
        "a, b, c = map(int, input().split())\n",
        "if a > b + c:\n",
        "  print('No')\n",
        "elif b > a + c:\n",
        "  print('No')\n",
        "elif c > a + b:\n",
        "  print('No')\n",
        "else:\n",
        "  print('Yes')"
      ],
      "metadata": {
        "colab": {
          "base_uri": "https://localhost:8080/"
        },
        "id": "qMGHCtYW-ODC",
        "outputId": "92b2e6fd-84ee-40ce-874a-51190b7bab54"
      },
      "execution_count": null,
      "outputs": [
        {
          "output_type": "stream",
          "name": "stdout",
          "text": [
            "3 4 5\n",
            "Yes\n"
          ]
        }
      ]
    },
    {
      "cell_type": "code",
      "source": [
        "#w11\n",
        "\n",
        "def is_triangle(a, b, c):\n",
        "    if a > b + c:\n",
        "        return False\n",
        "    elif b > a + c:\n",
        "        return False\n",
        "    elif c > a + b:\n",
        "        return False\n",
        "    else:\n",
        "        return True\n",
        "m, n, p = map(int, input().split())\n",
        "if ( is_triangle( m , n , p ) == False ): print(\"Không phải tam giác\")\n",
        "elif ( m == n and n == p ): print(\"Tam giác đều\")\n",
        "elif ( m == n or n == p or m == p ): print(\"Tam giác cân\")\n",
        "else: print(\"Tam giác thường\")"
      ],
      "metadata": {
        "colab": {
          "base_uri": "https://localhost:8080/"
        },
        "id": "kZsh89id_KNB",
        "outputId": "fb902a39-c473-43a9-fd44-fccac6aec357"
      },
      "execution_count": null,
      "outputs": [
        {
          "output_type": "stream",
          "name": "stdout",
          "text": [
            "2 3 4\n",
            "Tam giác thường\n"
          ]
        }
      ]
    },
    {
      "cell_type": "code",
      "source": [
        "#w10\n",
        "a = list(map(int, input().split()) )\n",
        "print( max( a[0], a[1], a[2], a[3]) )"
      ],
      "metadata": {
        "colab": {
          "base_uri": "https://localhost:8080/"
        },
        "id": "H1_vhS3CCVf1",
        "outputId": "327cfa65-ea0a-430b-f13d-92ad34c180a6"
      },
      "execution_count": null,
      "outputs": [
        {
          "output_type": "stream",
          "name": "stdout",
          "text": [
            "1 2 3 4\n",
            "4\n"
          ]
        }
      ]
    },
    {
      "cell_type": "code",
      "source": [
        "#w12\n",
        "a = int(input())\n",
        "if ( (a % 4 == 0 and a % 100 !=0 ) or a % 400 == 0 ): print(\"Yes\")\n",
        "else: print(\"No\")"
      ],
      "metadata": {
        "colab": {
          "base_uri": "https://localhost:8080/"
        },
        "id": "T3kVwX2Hw0tV",
        "outputId": "5c194fa4-8ef6-446b-f962-eb8cd45ad80d"
      },
      "execution_count": null,
      "outputs": [
        {
          "output_type": "stream",
          "name": "stdout",
          "text": [
            "2002\n",
            "No\n"
          ]
        }
      ]
    },
    {
      "cell_type": "code",
      "source": [
        "#w13\n",
        "a = int(input())\n",
        "sum = 0\n",
        "if ( a > 100 ):\n",
        "    sum = 50*(1500+2000) + (a-100)*3000\n",
        "elif ( a > 50 ):\n",
        "    sum = 50*1500 + (a-50)*2000\n",
        "else:\n",
        "    sum = a*1500\n",
        "print(sum)"
      ],
      "metadata": {
        "colab": {
          "base_uri": "https://localhost:8080/"
        },
        "id": "lvfXqknVxcpd",
        "outputId": "3df71648-be0e-47e3-beb4-7925e33aaa28"
      },
      "execution_count": null,
      "outputs": [
        {
          "output_type": "stream",
          "name": "stdout",
          "text": [
            "70\n",
            "115000\n"
          ]
        }
      ]
    },
    {
      "cell_type": "code",
      "source": [
        "#w14\n",
        "a, b = map(float, input().split())\n",
        "if ( a == 0 and b != 0 ): print(\"Vô Nghiệm\")\n",
        "elif ( a == 0 and b == 0 ): print(\"Vô Số Nghiệm\")\n",
        "else: ans= round(-b/a,2)\n",
        "print(ans)"
      ],
      "metadata": {
        "colab": {
          "base_uri": "https://localhost:8080/"
        },
        "id": "q_dCG82_y2Cd",
        "outputId": "a7f543da-4219-4bff-fc8f-950b66856dac"
      },
      "execution_count": null,
      "outputs": [
        {
          "output_type": "stream",
          "name": "stdout",
          "text": [
            "3 -9\n",
            "3.0\n"
          ]
        }
      ]
    },
    {
      "cell_type": "code",
      "source": [
        "#w15\n",
        "a = float(input())\n",
        "if ( a >= 8 ): print(\"Giỏi\")\n",
        "elif ( a >= 6.5 ): print(\"Khá\")\n",
        "elif ( a >= 5 ): print(\"Trung Bình\")\n",
        "else: print(\"Yếu\")"
      ],
      "metadata": {
        "colab": {
          "base_uri": "https://localhost:8080/"
        },
        "id": "ZMOu5Yid03qK",
        "outputId": "160ee263-faaa-4f8c-827a-345c09980e0c"
      },
      "execution_count": null,
      "outputs": [
        {
          "output_type": "stream",
          "name": "stdout",
          "text": [
            "1\n",
            "Yếu\n"
          ]
        }
      ]
    },
    {
      "cell_type": "code",
      "source": [
        "#w16\n",
        "a = float(input())\n",
        "c = int(a)\n",
        "b = float(int(a))\n",
        "def round_est(m, n):\n",
        "    if ( m > 0 ):\n",
        "        if ( m >= n+0.5 ): return int(n+1)\n",
        "        else: return int(n)\n",
        "    else:\n",
        "        if ( m <= n-0.5 ): return int(n-1)\n",
        "        else: return int(n)\n",
        "if ( a == b ): print(c, c, c)\n",
        "elif ( a > 0 ): print(c+1, c, round_est(a, b))\n",
        "else: print(c, c-1, round_est(a, b))\n"
      ],
      "metadata": {
        "colab": {
          "base_uri": "https://localhost:8080/"
        },
        "id": "el1zMfOd1lbw",
        "outputId": "ed4e35ac-6639-4e1e-f8c3-d295db6a601f"
      },
      "execution_count": null,
      "outputs": [
        {
          "output_type": "stream",
          "name": "stdout",
          "text": [
            "7.4\n",
            "8 7 7\n"
          ]
        }
      ]
    }
  ]
}